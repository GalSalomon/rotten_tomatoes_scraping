{
 "cells": [
  {
   "cell_type": "code",
   "execution_count": 36,
   "metadata": {},
   "outputs": [],
   "source": [
    "import requests\n",
    "import ast"
   ]
  },
  {
   "cell_type": "code",
   "execution_count": 37,
   "metadata": {},
   "outputs": [],
   "source": [
    "url = 'http://www.omdbapi.com/?t=The+Matrix&apikey=f04aea9f'"
   ]
  },
  {
   "cell_type": "code",
   "execution_count": 38,
   "metadata": {},
   "outputs": [],
   "source": [
    "response = requests.get(url)"
   ]
  },
  {
   "cell_type": "code",
   "execution_count": 41,
   "metadata": {},
   "outputs": [],
   "source": [
    "imdb_dict = ast.literal_eval(response.content.decode(\"UTF-8\"))"
   ]
  },
  {
   "cell_type": "code",
   "execution_count": 44,
   "metadata": {},
   "outputs": [
    {
     "data": {
      "text/plain": [
       "'8.7'"
      ]
     },
     "execution_count": 44,
     "metadata": {},
     "output_type": "execute_result"
    }
   ],
   "source": [
    "imdb_dict['imdbRating']"
   ]
  },
  {
   "cell_type": "code",
   "execution_count": 45,
   "metadata": {},
   "outputs": [
    {
     "data": {
      "text/plain": [
       "'73'"
      ]
     },
     "execution_count": 45,
     "metadata": {},
     "output_type": "execute_result"
    }
   ],
   "source": [
    "imdb_dict['Metascore']"
   ]
  },
  {
   "cell_type": "code",
   "execution_count": 43,
   "metadata": {},
   "outputs": [
    {
     "data": {
      "text/plain": [
       "{'Title': 'The Matrix',\n",
       " 'Year': '1999',\n",
       " 'Rated': 'R',\n",
       " 'Released': '31 Mar 1999',\n",
       " 'Runtime': '136 min',\n",
       " 'Genre': 'Action, Sci-Fi',\n",
       " 'Director': 'Lana Wachowski, Lilly Wachowski',\n",
       " 'Writer': 'Lilly Wachowski, Lana Wachowski',\n",
       " 'Actors': 'Keanu Reeves, Laurence Fishburne, Carrie-Anne Moss, Hugo Weaving',\n",
       " 'Plot': 'When a beautiful stranger leads computer hacker Neo to a forbidding underworld, he discovers the shocking truth--the life he knows is the elaborate deception of an evil cyber-intelligence.',\n",
       " 'Language': 'English',\n",
       " 'Country': 'USA',\n",
       " 'Awards': 'Won 4 Oscars. Another 38 wins & 51 nominations.',\n",
       " 'Poster': 'https://m.media-amazon.com/images/M/MV5BNzQzOTk3OTAtNDQ0Zi00ZTVkLWI0MTEtMDllZjNkYzNjNTc4L2ltYWdlXkEyXkFqcGdeQXVyNjU0OTQ0OTY@._V1_SX300.jpg',\n",
       " 'Ratings': [{'Source': 'Internet Movie Database', 'Value': '8.7/10'},\n",
       "  {'Source': 'Rotten Tomatoes', 'Value': '88%'},\n",
       "  {'Source': 'Metacritic', 'Value': '73/100'}],\n",
       " 'Metascore': '73',\n",
       " 'imdbRating': '8.7',\n",
       " 'imdbVotes': '1,702,966',\n",
       " 'imdbID': 'tt0133093',\n",
       " 'Type': 'movie',\n",
       " 'DVD': '01 Jan 2009',\n",
       " 'BoxOffice': '$171,479,930',\n",
       " 'Production': 'Village Roadshow Prod., Silver Pictures',\n",
       " 'Website': 'N/A',\n",
       " 'Response': 'True'}"
      ]
     },
     "execution_count": 43,
     "metadata": {},
     "output_type": "execute_result"
    }
   ],
   "source": [
    "imdb_dict"
   ]
  },
  {
   "cell_type": "code",
   "execution_count": 1,
   "metadata": {},
   "outputs": [],
   "source": [
    "import pandas as pd\n",
    "import conf\n",
    "import os"
   ]
  },
  {
   "cell_type": "code",
   "execution_count": 2,
   "metadata": {},
   "outputs": [],
   "source": [
    "movies = pd.read_csv('output.csv')"
   ]
  },
  {
   "cell_type": "code",
   "execution_count": 3,
   "metadata": {},
   "outputs": [
    {
     "data": {
      "text/html": [
       "<div>\n",
       "<style scoped>\n",
       "    .dataframe tbody tr th:only-of-type {\n",
       "        vertical-align: middle;\n",
       "    }\n",
       "\n",
       "    .dataframe tbody tr th {\n",
       "        vertical-align: top;\n",
       "    }\n",
       "\n",
       "    .dataframe thead th {\n",
       "        text-align: right;\n",
       "    }\n",
       "</style>\n",
       "<table border=\"1\" class=\"dataframe\">\n",
       "  <thead>\n",
       "    <tr style=\"text-align: right;\">\n",
       "      <th></th>\n",
       "      <th>url</th>\n",
       "      <th>title</th>\n",
       "      <th>genre</th>\n",
       "      <th>length</th>\n",
       "      <th>audience_score</th>\n",
       "      <th>tomato_score</th>\n",
       "      <th>year</th>\n",
       "      <th>poster</th>\n",
       "      <th>desc</th>\n",
       "    </tr>\n",
       "  </thead>\n",
       "  <tbody>\n",
       "    <tr>\n",
       "      <th>0</th>\n",
       "      <td>https://www.rottentomatoes.com/m/on_body_and_s...</td>\n",
       "      <td>On Body and Soul (A Teströl és Lélekröl)</td>\n",
       "      <td>Drama</td>\n",
       "      <td>1h 56m</td>\n",
       "      <td>82.0</td>\n",
       "      <td>NaN</td>\n",
       "      <td>2017</td>\n",
       "      <td>https://resizing.flixster.com/MMwhnlo0d5Q6g-zq...</td>\n",
       "      <td>When a man and woman who meet at work begin to...</td>\n",
       "    </tr>\n",
       "    <tr>\n",
       "      <th>1</th>\n",
       "      <td>https://www.rottentomatoes.com/m/always_be_my_...</td>\n",
       "      <td>Always Be My Maybe</td>\n",
       "      <td>Romance</td>\n",
       "      <td>1h 42m</td>\n",
       "      <td>80.0</td>\n",
       "      <td>90.0</td>\n",
       "      <td>2019</td>\n",
       "      <td>https://resizing.flixster.com/l-FdhverVu-cPJ3y...</td>\n",
       "      <td>Childhood sweethearts have a falling out and d...</td>\n",
       "    </tr>\n",
       "    <tr>\n",
       "      <th>2</th>\n",
       "      <td>https://www.rottentomatoes.com/m/the_kindergar...</td>\n",
       "      <td>The Kindergarten Teacher</td>\n",
       "      <td>Drama</td>\n",
       "      <td>1h 36m</td>\n",
       "      <td>68.0</td>\n",
       "      <td>90.0</td>\n",
       "      <td>2018</td>\n",
       "      <td>https://resizing.flixster.com/ZFQ5JbHf9ktwFNXB...</td>\n",
       "      <td>A teacher sees such great promise in her 5-yea...</td>\n",
       "    </tr>\n",
       "    <tr>\n",
       "      <th>3</th>\n",
       "      <td>https://www.rottentomatoes.com/m/departed/</td>\n",
       "      <td>The Departed</td>\n",
       "      <td>Crime/Mystery and thriller</td>\n",
       "      <td>2h 32m</td>\n",
       "      <td>94.0</td>\n",
       "      <td>90.0</td>\n",
       "      <td>2006</td>\n",
       "      <td>https://resizing.flixster.com/cpZ3WiuL4SQODLSN...</td>\n",
       "      <td>South Boston cop Billy Costigan (Leonardo DiCa...</td>\n",
       "    </tr>\n",
       "    <tr>\n",
       "      <th>4</th>\n",
       "      <td>https://www.rottentomatoes.com/m/1922_2017/</td>\n",
       "      <td>1922</td>\n",
       "      <td>Horror</td>\n",
       "      <td>1h 42m</td>\n",
       "      <td>57.0</td>\n",
       "      <td>91.0</td>\n",
       "      <td>2017</td>\n",
       "      <td>https://resizing.flixster.com/kBMRd_diQ5VYuIGL...</td>\n",
       "      <td>A rancher conspires to murder his wife for fin...</td>\n",
       "    </tr>\n",
       "  </tbody>\n",
       "</table>\n",
       "</div>"
      ],
      "text/plain": [
       "                                                 url  \\\n",
       "0  https://www.rottentomatoes.com/m/on_body_and_s...   \n",
       "1  https://www.rottentomatoes.com/m/always_be_my_...   \n",
       "2  https://www.rottentomatoes.com/m/the_kindergar...   \n",
       "3         https://www.rottentomatoes.com/m/departed/   \n",
       "4        https://www.rottentomatoes.com/m/1922_2017/   \n",
       "\n",
       "                                      title                        genre  \\\n",
       "0  On Body and Soul (A Teströl és Lélekröl)                        Drama   \n",
       "1                        Always Be My Maybe                      Romance   \n",
       "2                  The Kindergarten Teacher                        Drama   \n",
       "3                              The Departed   Crime/Mystery and thriller   \n",
       "4                                      1922                       Horror   \n",
       "\n",
       "    length  audience_score  tomato_score  year  \\\n",
       "0   1h 56m            82.0           NaN  2017   \n",
       "1   1h 42m            80.0          90.0  2019   \n",
       "2   1h 36m            68.0          90.0  2018   \n",
       "3   2h 32m            94.0          90.0  2006   \n",
       "4   1h 42m            57.0          91.0  2017   \n",
       "\n",
       "                                              poster  \\\n",
       "0  https://resizing.flixster.com/MMwhnlo0d5Q6g-zq...   \n",
       "1  https://resizing.flixster.com/l-FdhverVu-cPJ3y...   \n",
       "2  https://resizing.flixster.com/ZFQ5JbHf9ktwFNXB...   \n",
       "3  https://resizing.flixster.com/cpZ3WiuL4SQODLSN...   \n",
       "4  https://resizing.flixster.com/kBMRd_diQ5VYuIGL...   \n",
       "\n",
       "                                                desc  \n",
       "0  When a man and woman who meet at work begin to...  \n",
       "1  Childhood sweethearts have a falling out and d...  \n",
       "2  A teacher sees such great promise in her 5-yea...  \n",
       "3  South Boston cop Billy Costigan (Leonardo DiCa...  \n",
       "4  A rancher conspires to murder his wife for fin...  "
      ]
     },
     "execution_count": 3,
     "metadata": {},
     "output_type": "execute_result"
    }
   ],
   "source": [
    "movies.head()"
   ]
  },
  {
   "cell_type": "code",
   "execution_count": 5,
   "metadata": {},
   "outputs": [],
   "source": [
    "from decouple import config"
   ]
  },
  {
   "cell_type": "code",
   "execution_count": 33,
   "metadata": {},
   "outputs": [],
   "source": [
    "import time\n",
    "import grequests\n",
    "import re\n",
    "import string"
   ]
  },
  {
   "cell_type": "code",
   "execution_count": 34,
   "metadata": {},
   "outputs": [],
   "source": [
    "def get_responses_from_urls(urls):\n",
    "    \"\"\"receives urls and returns a dict:\n",
    "    keys = urls\n",
    "    values = responses\"\"\"\n",
    "    try:\n",
    "        # in order to prevent the site from blocking us: sleep 1 sec\n",
    "        time.sleep(1)\n",
    "        rs = (grequests.get(url) for url in urls)\n",
    "        # If the response was successful, no Exception will be raised\n",
    "        responses = grequests.map(rs)\n",
    "        responses_dict = {}\n",
    "        for i, url in enumerate(urls):\n",
    "            responses_dict[url] = responses[i]\n",
    "    except Exception as err:\n",
    "        sys.exit(1)\n",
    "    return responses_dict"
   ]
  },
  {
   "cell_type": "code",
   "execution_count": 49,
   "metadata": {},
   "outputs": [],
   "source": [
    "def create_omdb_url(title):\n",
    "    key = config('API_KEY')\n",
    "    url = f'http://www.omdbapi.com/?t={title}&apikey={key}'\n",
    "    url=re.sub(\"\\(.*?\\)\",\"()\",url)\\\n",
    "          .replace('(', '')\\\n",
    "          .replace(')', '')\\\n",
    "          .rstrip()\\\n",
    "          .replace(' ', '_')\n",
    "    return url"
   ]
  },
  {
   "cell_type": "code",
   "execution_count": 50,
   "metadata": {},
   "outputs": [
    {
     "name": "stdout",
     "output_type": "stream",
     "text": [
      "{'http://www.omdbapi.com/?t=On_Body_and_Soul_&apikey=f04aea9f': <Response [200]>, 'http://www.omdbapi.com/?t=Always_Be_My_Maybe&apikey=f04aea9f': <Response [200]>, 'http://www.omdbapi.com/?t=The_Kindergarten_Teacher&apikey=f04aea9f': <Response [200]>, 'http://www.omdbapi.com/?t=The_Departed&apikey=f04aea9f': <Response [200]>, 'http://www.omdbapi.com/?t=1922&apikey=f04aea9f': <Response [200]>, 'http://www.omdbapi.com/?t=Uncorked&apikey=f04aea9f': <Response [200]>, 'http://www.omdbapi.com/?t=The_Willoughbys&apikey=f04aea9f': <Response [200]>, 'http://www.omdbapi.com/?t=I_Am_Mother&apikey=f04aea9f': <Response [200]>, \"http://www.omdbapi.com/?t=Gerald's_Game&apikey=f04aea9f\": <Response [200]>, 'http://www.omdbapi.com/?t=Happy_as_Lazzaro_&apikey=f04aea9f': <Response [200]>}\n"
     ]
    }
   ],
   "source": [
    "for x in range(int(len(movies) / conf.BATCH_SIZE)):\n",
    "    # runs from 0 till len(movies) / BATCH_SIZE\n",
    "    idxs = movies.index[x * conf.BATCH_SIZE:x * conf.BATCH_SIZE + conf.BATCH_SIZE]\n",
    "    titles = movies[movies.index.isin(idxs)]['title']\n",
    "    \n",
    "    urls = [create_omdb_url(t) for t in titles]\n",
    "    responses_dict = get_responses_from_urls(urls)\n",
    "    print(responses_dict)\n",
    "    break"
   ]
  },
  {
   "cell_type": "code",
   "execution_count": 51,
   "metadata": {},
   "outputs": [
    {
     "data": {
      "text/plain": [
       "['http://www.omdbapi.com/?t=On_Body_and_Soul_&apikey=f04aea9f',\n",
       " 'http://www.omdbapi.com/?t=Always_Be_My_Maybe&apikey=f04aea9f',\n",
       " 'http://www.omdbapi.com/?t=The_Kindergarten_Teacher&apikey=f04aea9f',\n",
       " 'http://www.omdbapi.com/?t=The_Departed&apikey=f04aea9f',\n",
       " 'http://www.omdbapi.com/?t=1922&apikey=f04aea9f',\n",
       " 'http://www.omdbapi.com/?t=Uncorked&apikey=f04aea9f',\n",
       " 'http://www.omdbapi.com/?t=The_Willoughbys&apikey=f04aea9f',\n",
       " 'http://www.omdbapi.com/?t=I_Am_Mother&apikey=f04aea9f',\n",
       " \"http://www.omdbapi.com/?t=Gerald's_Game&apikey=f04aea9f\",\n",
       " 'http://www.omdbapi.com/?t=Happy_as_Lazzaro_&apikey=f04aea9f']"
      ]
     },
     "execution_count": 51,
     "metadata": {},
     "output_type": "execute_result"
    }
   ],
   "source": [
    "list(responses_dict.keys())"
   ]
  },
  {
   "cell_type": "code",
   "execution_count": null,
   "metadata": {},
   "outputs": [],
   "source": []
  }
 ],
 "metadata": {
  "kernelspec": {
   "display_name": "Python 3",
   "language": "python",
   "name": "python3"
  },
  "language_info": {
   "codemirror_mode": {
    "name": "ipython",
    "version": 3
   },
   "file_extension": ".py",
   "mimetype": "text/x-python",
   "name": "python",
   "nbconvert_exporter": "python",
   "pygments_lexer": "ipython3",
   "version": "3.8.5"
  }
 },
 "nbformat": 4,
 "nbformat_minor": 4
}
